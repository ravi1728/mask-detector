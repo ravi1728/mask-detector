{
  "nbformat": 4,
  "nbformat_minor": 0,
  "metadata": {
    "colab": {
      "name": "train_mask_detector.ipynb",
      "provenance": [],
      "collapsed_sections": [],
      "authorship_tag": "ABX9TyNkDVEGwxuCiijL9ousqZjM",
      "include_colab_link": true
    },
    "kernelspec": {
      "name": "python3",
      "display_name": "Python 3"
    },
    "accelerator": "GPU"
  },
  "cells": [
    {
      "cell_type": "markdown",
      "metadata": {
        "id": "view-in-github",
        "colab_type": "text"
      },
      "source": [
        "<a href=\"https://colab.research.google.com/github/ravi7299/mask-detector/blob/master/train_mask_detector.ipynb\" target=\"_parent\"><img src=\"https://colab.research.google.com/assets/colab-badge.svg\" alt=\"Open In Colab\"/></a>"
      ]
    },
    {
      "cell_type": "code",
      "metadata": {
        "id": "DBzYfr-y6UX8",
        "colab_type": "code",
        "colab": {}
      },
      "source": [
        "# dataset link https://datasetsforml.s3.ap-south-1.amazonaws.com/facemask_dataset.zip"
      ],
      "execution_count": null,
      "outputs": []
    },
    {
      "cell_type": "code",
      "metadata": {
        "id": "G3zt4DJ_u5Zn",
        "colab_type": "code",
        "colab": {
          "base_uri": "https://localhost:8080/",
          "height": 202
        },
        "outputId": "ff8896a6-01bc-4797-8f42-87ac0c738a49"
      },
      "source": [
        "!wget --no-check-certificate \\\n",
        "    https://datasetsforml.s3.ap-south-1.amazonaws.com/facemask_dataset.zip \\\n",
        "    -O facemask_dataset.zip"
      ],
      "execution_count": 7,
      "outputs": [
        {
          "output_type": "stream",
          "text": [
            "--2020-07-14 00:45:07--  https://datasetsforml.s3.ap-south-1.amazonaws.com/facemask_dataset.zip\n",
            "Resolving datasetsforml.s3.ap-south-1.amazonaws.com (datasetsforml.s3.ap-south-1.amazonaws.com)... 52.219.64.123\n",
            "Connecting to datasetsforml.s3.ap-south-1.amazonaws.com (datasetsforml.s3.ap-south-1.amazonaws.com)|52.219.64.123|:443... connected.\n",
            "HTTP request sent, awaiting response... 200 OK\n",
            "Length: 52826029 (50M) [application/zip]\n",
            "Saving to: ‘facemask_dataset.zip’\n",
            "\n",
            "facemask_dataset.zi 100%[===================>]  50.38M  19.0MB/s    in 2.7s    \n",
            "\n",
            "2020-07-14 00:45:10 (19.0 MB/s) - ‘facemask_dataset.zip’ saved [52826029/52826029]\n",
            "\n"
          ],
          "name": "stdout"
        }
      ]
    },
    {
      "cell_type": "code",
      "metadata": {
        "id": "k0OiYZoQw7rU",
        "colab_type": "code",
        "colab": {}
      },
      "source": [
        "import os\n",
        "import zipfile\n",
        "\n",
        "local_zip = 'facemask_dataset.zip'\n",
        "zip_ref = zipfile.ZipFile(local_zip, 'r')\n",
        "zip_ref.extractall('/content')\n",
        "zip_ref.close()"
      ],
      "execution_count": 8,
      "outputs": []
    },
    {
      "cell_type": "code",
      "metadata": {
        "id": "-FPet3outonB",
        "colab_type": "code",
        "colab": {}
      },
      "source": [
        "from tensorflow.keras.preprocessing.image import ImageDataGenerator\n",
        "from tensorflow.keras.applications import MobileNetV2\n",
        "from tensorflow.keras.layers import AveragePooling2D\n",
        "from tensorflow.keras.layers import Dropout\n",
        "from tensorflow.keras.layers import Flatten\n",
        "from tensorflow.keras.layers import Dense\n",
        "from tensorflow.keras.layers import Input\n",
        "from tensorflow.keras.models import Model\n",
        "from tensorflow.keras.optimizers import Adam\n",
        "from tensorflow.keras.applications.mobilenet_v2 import preprocess_input\n",
        "from tensorflow.keras.preprocessing.image import img_to_array\n",
        "from tensorflow.keras.preprocessing.image import load_img\n",
        "from tensorflow.keras.utils import to_categorical\n",
        "from sklearn.preprocessing import LabelBinarizer\n",
        "from sklearn.model_selection import train_test_split\n",
        "from sklearn.metrics import classification_report\n",
        "from imutils import paths\n",
        "import matplotlib.pyplot as plt\n",
        "import numpy as np"
      ],
      "execution_count": 9,
      "outputs": []
    },
    {
      "cell_type": "code",
      "metadata": {
        "id": "LUdbXFYgyIBz",
        "colab_type": "code",
        "colab": {}
      },
      "source": [
        "INIT_LR = 1e-4\n",
        "EPOCHS = 20\n",
        "BS = 32"
      ],
      "execution_count": 10,
      "outputs": []
    },
    {
      "cell_type": "code",
      "metadata": {
        "id": "sJ_mN0l3yKvy",
        "colab_type": "code",
        "colab": {}
      },
      "source": [
        "data_path=\"./dataset\"\n",
        "\n",
        "imagePaths = list(paths.list_images(data_path))\n",
        "data = []\n",
        "labels = []"
      ],
      "execution_count": 12,
      "outputs": []
    },
    {
      "cell_type": "code",
      "metadata": {
        "id": "swkWWZgCyN3Y",
        "colab_type": "code",
        "colab": {}
      },
      "source": [
        "for imagePath in imagePaths:\n",
        "\t# extract the class label from the filename\n",
        "\tlabel = imagePath.split(os.path.sep)[-2]\n",
        "\n",
        "\timage = load_img(imagePath, target_size=(224, 224))\n",
        "\timage = img_to_array(image)\n",
        "\timage = preprocess_input(image)\n",
        "\n",
        "\tdata.append(image)\n",
        "\tlabels.append(label)"
      ],
      "execution_count": 14,
      "outputs": []
    },
    {
      "cell_type": "code",
      "metadata": {
        "id": "OtDxdUJOyeCa",
        "colab_type": "code",
        "colab": {}
      },
      "source": [
        "data = np.array(data, dtype=\"float32\")\n",
        "labels = np.array(labels)"
      ],
      "execution_count": 15,
      "outputs": []
    },
    {
      "cell_type": "code",
      "metadata": {
        "id": "2wBLbM4wytYx",
        "colab_type": "code",
        "colab": {}
      },
      "source": [
        "data = np.array(data, dtype=\"float32\")\n",
        "labels = np.array(labels)"
      ],
      "execution_count": 16,
      "outputs": []
    },
    {
      "cell_type": "code",
      "metadata": {
        "id": "XkNQ7H51y3gh",
        "colab_type": "code",
        "colab": {}
      },
      "source": [
        "lb = LabelBinarizer()\n",
        "labels = lb.fit_transform(labels)\n",
        "labels = to_categorical(labels)"
      ],
      "execution_count": 17,
      "outputs": []
    },
    {
      "cell_type": "code",
      "metadata": {
        "id": "0pgcteUUy53N",
        "colab_type": "code",
        "colab": {}
      },
      "source": [
        "(trainX, testX, trainY, testY) = train_test_split(data, labels,\n",
        "\ttest_size=0.20, stratify=labels, random_state=42)"
      ],
      "execution_count": 18,
      "outputs": []
    },
    {
      "cell_type": "code",
      "metadata": {
        "id": "iI9r-KSmy8w4",
        "colab_type": "code",
        "colab": {}
      },
      "source": [
        "aug = ImageDataGenerator(\n",
        "\trotation_range=20,\n",
        "\tzoom_range=0.15,\n",
        "\twidth_shift_range=0.2,\n",
        "\theight_shift_range=0.2,\n",
        "\tshear_range=0.15,\n",
        "\thorizontal_flip=True,\n",
        "\tfill_mode=\"nearest\")"
      ],
      "execution_count": 19,
      "outputs": []
    },
    {
      "cell_type": "code",
      "metadata": {
        "id": "_V24A0i5zBXI",
        "colab_type": "code",
        "colab": {
          "base_uri": "https://localhost:8080/",
          "height": 87
        },
        "outputId": "d3a219dc-86a1-40aa-be4e-8a3d1552cbdb"
      },
      "source": [
        "baseModel = MobileNetV2(weights=\"imagenet\", include_top=False,\n",
        "\tinput_tensor=Input(shape=(224, 224, 3)))"
      ],
      "execution_count": 20,
      "outputs": [
        {
          "output_type": "stream",
          "text": [
            "WARNING:tensorflow:`input_shape` is undefined or non-square, or `rows` is not in [96, 128, 160, 192, 224]. Weights for input shape (224, 224) will be loaded as the default.\n",
            "Downloading data from https://storage.googleapis.com/tensorflow/keras-applications/mobilenet_v2/mobilenet_v2_weights_tf_dim_ordering_tf_kernels_1.0_224_no_top.h5\n",
            "9412608/9406464 [==============================] - 0s 0us/step\n"
          ],
          "name": "stdout"
        }
      ]
    },
    {
      "cell_type": "code",
      "metadata": {
        "id": "UvIG1v2vzD04",
        "colab_type": "code",
        "colab": {}
      },
      "source": [
        "headModel = baseModel.output\n",
        "headModel = AveragePooling2D(pool_size=(7, 7))(headModel)\n",
        "headModel = Flatten(name=\"flatten\")(headModel)\n",
        "headModel = Dense(128, activation=\"relu\")(headModel)\n",
        "headModel = Dropout(0.5)(headModel)\n",
        "headModel = Dense(2, activation=\"softmax\")(headModel)"
      ],
      "execution_count": 21,
      "outputs": []
    },
    {
      "cell_type": "code",
      "metadata": {
        "id": "lXOhFzgrzM19",
        "colab_type": "code",
        "colab": {}
      },
      "source": [
        "model = Model(inputs=baseModel.input, outputs=headModel)"
      ],
      "execution_count": 22,
      "outputs": []
    },
    {
      "cell_type": "code",
      "metadata": {
        "id": "xywJTptozPUs",
        "colab_type": "code",
        "colab": {}
      },
      "source": [
        "for layer in baseModel.layers:\n",
        "\tlayer.trainable = False"
      ],
      "execution_count": 23,
      "outputs": []
    },
    {
      "cell_type": "code",
      "metadata": {
        "id": "n-XMuE43zRP7",
        "colab_type": "code",
        "colab": {}
      },
      "source": [
        "opt = Adam(lr=INIT_LR, decay=INIT_LR / EPOCHS)\n",
        "model.compile(loss=\"binary_crossentropy\", optimizer=opt,\n",
        "\tmetrics=[\"accuracy\"])"
      ],
      "execution_count": 24,
      "outputs": []
    },
    {
      "cell_type": "code",
      "metadata": {
        "id": "LZy6fS-KzTeF",
        "colab_type": "code",
        "colab": {
          "base_uri": "https://localhost:8080/",
          "height": 689
        },
        "outputId": "5d358e92-8349-496a-dbc1-38cfec43fcf8"
      },
      "source": [
        "H = model.fit(\n",
        "\taug.flow(trainX, trainY, batch_size=BS),\n",
        "\tsteps_per_epoch=len(trainX) // BS,\n",
        "\tvalidation_data=(testX, testY),\n",
        "\tvalidation_steps=len(testX) // BS,\n",
        "\tepochs=EPOCHS)"
      ],
      "execution_count": 25,
      "outputs": [
        {
          "output_type": "stream",
          "text": [
            "Epoch 1/20\n",
            "34/34 [==============================] - 15s 447ms/step - loss: 0.6160 - accuracy: 0.6938 - val_loss: 0.1862 - val_accuracy: 0.9638\n",
            "Epoch 2/20\n",
            "34/34 [==============================] - 13s 388ms/step - loss: 0.1878 - accuracy: 0.9410 - val_loss: 0.0796 - val_accuracy: 0.9855\n",
            "Epoch 3/20\n",
            "34/34 [==============================] - 13s 392ms/step - loss: 0.1020 - accuracy: 0.9738 - val_loss: 0.0476 - val_accuracy: 0.9964\n",
            "Epoch 4/20\n",
            "34/34 [==============================] - 14s 401ms/step - loss: 0.0749 - accuracy: 0.9844 - val_loss: 0.0339 - val_accuracy: 0.9928\n",
            "Epoch 5/20\n",
            "34/34 [==============================] - 13s 386ms/step - loss: 0.0559 - accuracy: 0.9822 - val_loss: 0.0263 - val_accuracy: 0.9964\n",
            "Epoch 6/20\n",
            "34/34 [==============================] - 13s 386ms/step - loss: 0.0450 - accuracy: 0.9906 - val_loss: 0.0215 - val_accuracy: 0.9928\n",
            "Epoch 7/20\n",
            "34/34 [==============================] - 13s 391ms/step - loss: 0.0381 - accuracy: 0.9871 - val_loss: 0.0186 - val_accuracy: 0.9928\n",
            "Epoch 8/20\n",
            "34/34 [==============================] - 13s 394ms/step - loss: 0.0319 - accuracy: 0.9897 - val_loss: 0.0155 - val_accuracy: 0.9964\n",
            "Epoch 9/20\n",
            "34/34 [==============================] - 13s 386ms/step - loss: 0.0345 - accuracy: 0.9888 - val_loss: 0.0141 - val_accuracy: 0.9928\n",
            "Epoch 10/20\n",
            "34/34 [==============================] - 13s 385ms/step - loss: 0.0285 - accuracy: 0.9897 - val_loss: 0.0128 - val_accuracy: 0.9964\n",
            "Epoch 11/20\n",
            "34/34 [==============================] - 13s 388ms/step - loss: 0.0195 - accuracy: 0.9972 - val_loss: 0.0114 - val_accuracy: 0.9964\n",
            "Epoch 12/20\n",
            "34/34 [==============================] - 13s 384ms/step - loss: 0.0169 - accuracy: 0.9944 - val_loss: 0.0109 - val_accuracy: 0.9964\n",
            "Epoch 13/20\n",
            "34/34 [==============================] - 13s 387ms/step - loss: 0.0191 - accuracy: 0.9963 - val_loss: 0.0093 - val_accuracy: 1.0000\n",
            "Epoch 14/20\n",
            "34/34 [==============================] - 13s 386ms/step - loss: 0.0185 - accuracy: 0.9963 - val_loss: 0.0092 - val_accuracy: 1.0000\n",
            "Epoch 15/20\n",
            "34/34 [==============================] - 13s 395ms/step - loss: 0.0184 - accuracy: 0.9944 - val_loss: 0.0088 - val_accuracy: 1.0000\n",
            "Epoch 16/20\n",
            "34/34 [==============================] - 13s 385ms/step - loss: 0.0147 - accuracy: 0.9963 - val_loss: 0.0076 - val_accuracy: 1.0000\n",
            "Epoch 17/20\n",
            "34/34 [==============================] - 13s 387ms/step - loss: 0.0172 - accuracy: 0.9934 - val_loss: 0.0072 - val_accuracy: 1.0000\n",
            "Epoch 18/20\n",
            "34/34 [==============================] - 13s 387ms/step - loss: 0.0129 - accuracy: 0.9972 - val_loss: 0.0069 - val_accuracy: 1.0000\n",
            "Epoch 19/20\n",
            "34/34 [==============================] - 13s 387ms/step - loss: 0.0206 - accuracy: 0.9916 - val_loss: 0.0069 - val_accuracy: 1.0000\n",
            "Epoch 20/20\n",
            "34/34 [==============================] - 13s 386ms/step - loss: 0.0133 - accuracy: 0.9944 - val_loss: 0.0076 - val_accuracy: 0.9964\n"
          ],
          "name": "stdout"
        }
      ]
    },
    {
      "cell_type": "code",
      "metadata": {
        "id": "lp48bCenzVbL",
        "colab_type": "code",
        "colab": {
          "base_uri": "https://localhost:8080/",
          "height": 299
        },
        "outputId": "e2bca893-7338-4a3f-eb87-07901c7c1dce"
      },
      "source": [
        "model.save(\"mask_detector.model\", save_format=\"h5\")\n",
        "\n",
        "N = EPOCHS\n",
        "plt.style.use(\"ggplot\")\n",
        "plt.figure()\n",
        "plt.plot(np.arange(0, N), H.history[\"loss\"], label=\"train_loss\")\n",
        "plt.plot(np.arange(0, N), H.history[\"val_loss\"], label=\"val_loss\")\n",
        "plt.plot(np.arange(0, N), H.history[\"accuracy\"], label=\"train_acc\")\n",
        "plt.plot(np.arange(0, N), H.history[\"val_accuracy\"], label=\"val_acc\")\n",
        "plt.title(\"Training Loss and Accuracy\")\n",
        "plt.xlabel(\"Epoch #\")\n",
        "plt.ylabel(\"Loss/Accuracy\")\n",
        "plt.legend(loc=\"lower left\")\n",
        "plt.savefig(\"mask_detector_plot.jpg\")"
      ],
      "execution_count": 26,
      "outputs": [
        {
          "output_type": "display_data",
          "data": {
            "image/png": "[encoded data removed]",
            "text/plain": [
              "<Figure size 432x288 with 1 Axes>"
            ]
          },
          "metadata": {
            "tags": []
          }
        }
      ]
    },
    {
      "cell_type": "code",
      "metadata": {
        "id": "A8IgS5g80XGA",
        "colab_type": "code",
        "colab": {
          "base_uri": "https://localhost:8080/",
          "height": 17
        },
        "outputId": "244bd36d-8a0d-43ca-e761-03fae0adf2be"
      },
      "source": [
        "from google.colab import files\n",
        "\n",
        "files.download(\"mask_detector.model\")\n",
        "files.download(\"mask_detector_plot.jpg\")"
      ],
      "execution_count": 27,
      "outputs": [
        {
          "output_type": "display_data",
          "data": {
            "application/javascript": [
              "\n",
              "    async function download(id, filename, size) {\n",
              "      if (!google.colab.kernel.accessAllowed) {\n",
              "        return;\n",
              "      }\n",
              "      const div = document.createElement('div');\n",
              "      const label = document.createElement('label');\n",
              "      label.textContent = `Downloading \"${filename}\": `;\n",
              "      div.appendChild(label);\n",
              "      const progress = document.createElement('progress');\n",
              "      progress.max = size;\n",
              "      div.appendChild(progress);\n",
              "      document.body.appendChild(div);\n",
              "\n",
              "      const buffers = [];\n",
              "      let downloaded = 0;\n",
              "\n",
              "      const channel = await google.colab.kernel.comms.open(id);\n",
              "      // Send a message to notify the kernel that we're ready.\n",
              "      channel.send({})\n",
              "\n",
              "      for await (const message of channel.messages) {\n",
              "        // Send a message to notify the kernel that we're ready.\n",
              "        channel.send({})\n",
              "        if (message.buffers) {\n",
              "          for (const buffer of message.buffers) {\n",
              "            buffers.push(buffer);\n",
              "            downloaded += buffer.byteLength;\n",
              "            progress.value = downloaded;\n",
              "          }\n",
              "        }\n",
              "      }\n",
              "      const blob = new Blob(buffers, {type: 'application/binary'});\n",
              "      const a = document.createElement('a');\n",
              "      a.href = window.URL.createObjectURL(blob);\n",
              "      a.download = filename;\n",
              "      div.appendChild(a);\n",
              "      a.click();\n",
              "      div.remove();\n",
              "    }\n",
              "  "
            ],
            "text/plain": [
              "<IPython.core.display.Javascript object>"
            ]
          },
          "metadata": {
            "tags": []
          }
        },
        {
          "output_type": "display_data",
          "data": {
            "application/javascript": [
              "download(\"download_c82b971f-9571-4b2e-92cf-119fd5960d22\", \"mask_detector.model\", 11488344)"
            ],
            "text/plain": [
              "<IPython.core.display.Javascript object>"
            ]
          },
          "metadata": {
            "tags": []
          }
        },
        {
          "output_type": "display_data",
          "data": {
            "application/javascript": [
              "\n",
              "    async function download(id, filename, size) {\n",
              "      if (!google.colab.kernel.accessAllowed) {\n",
              "        return;\n",
              "      }\n",
              "      const div = document.createElement('div');\n",
              "      const label = document.createElement('label');\n",
              "      label.textContent = `Downloading \"${filename}\": `;\n",
              "      div.appendChild(label);\n",
              "      const progress = document.createElement('progress');\n",
              "      progress.max = size;\n",
              "      div.appendChild(progress);\n",
              "      document.body.appendChild(div);\n",
              "\n",
              "      const buffers = [];\n",
              "      let downloaded = 0;\n",
              "\n",
              "      const channel = await google.colab.kernel.comms.open(id);\n",
              "      // Send a message to notify the kernel that we're ready.\n",
              "      channel.send({})\n",
              "\n",
              "      for await (const message of channel.messages) {\n",
              "        // Send a message to notify the kernel that we're ready.\n",
              "        channel.send({})\n",
              "        if (message.buffers) {\n",
              "          for (const buffer of message.buffers) {\n",
              "            buffers.push(buffer);\n",
              "            downloaded += buffer.byteLength;\n",
              "            progress.value = downloaded;\n",
              "          }\n",
              "        }\n",
              "      }\n",
              "      const blob = new Blob(buffers, {type: 'application/binary'});\n",
              "      const a = document.createElement('a');\n",
              "      a.href = window.URL.createObjectURL(blob);\n",
              "      a.download = filename;\n",
              "      div.appendChild(a);\n",
              "      a.click();\n",
              "      div.remove();\n",
              "    }\n",
              "  "
            ],
            "text/plain": [
              "<IPython.core.display.Javascript object>"
            ]
          },
          "metadata": {
            "tags": []
          }
        },
        {
          "output_type": "display_data",
          "data": {
            "application/javascript": [
              "download(\"download_489f86a3-a7fa-4666-abdf-1c032b7f19dd\", \"mask_detector_plot.jpg\", 24907)"
            ],
            "text/plain": [
              "<IPython.core.display.Javascript object>"
            ]
          },
          "metadata": {
            "tags": []
          }
        }
      ]
    }
  ]
}